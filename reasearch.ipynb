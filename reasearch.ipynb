{
 "cells": [
  {
   "cell_type": "code",
   "execution_count": 9,
   "id": "1a434056",
   "metadata": {},
   "outputs": [],
   "source": [
    "from dotenv import load_dotenv\n",
    "load_dotenv()\n",
    "import os\n",
    "\n",
    "\n",
    "\n",
    "data_path = os.getenv(\"DATA_PATH\")\n",
    "model_path = os.getenv(\"MODEL_PATH\")\n",
    "\n",
    "\n",
    "api_url = os.getenv(\"API_URL\")\n",
    "username = os.getenv(\"API_USERNAME\")\n",
    "password = os.getenv(\"API_PASSWORD\")"
   ]
  },
  {
   "cell_type": "code",
   "execution_count": 11,
   "id": "d56e429e",
   "metadata": {},
   "outputs": [
    {
     "data": {
      "text/plain": [
       "'https://treecodeit.com/aidata/getaidata'"
      ]
     },
     "execution_count": 11,
     "metadata": {},
     "output_type": "execute_result"
    }
   ],
   "source": [
    "api_url"
   ]
  }
 ],
 "metadata": {
  "kernelspec": {
   "display_name": "base",
   "language": "python",
   "name": "python3"
  },
  "language_info": {
   "codemirror_mode": {
    "name": "ipython",
    "version": 3
   },
   "file_extension": ".py",
   "mimetype": "text/x-python",
   "name": "python",
   "nbconvert_exporter": "python",
   "pygments_lexer": "ipython3",
   "version": "3.11.7"
  }
 },
 "nbformat": 4,
 "nbformat_minor": 5
}
